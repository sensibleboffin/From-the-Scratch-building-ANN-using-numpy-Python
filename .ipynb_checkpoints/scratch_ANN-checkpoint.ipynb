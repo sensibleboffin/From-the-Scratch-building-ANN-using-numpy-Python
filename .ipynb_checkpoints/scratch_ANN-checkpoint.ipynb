{
 "cells": [
  {
   "cell_type": "code",
   "execution_count": null,
   "id": "adb38c80",
   "metadata": {},
   "outputs": [],
   "source": [
    "# Import libraries\n",
    "import numpy as np; # Mostly used for array manipulation datatype numpy.ndarray\n",
    "from sklearn.linear_model import LinearRegression # Used for implementing Logistic regression\n",
    "%matplotlib notebook\n",
    "import matplotlib.pyplot as plt # Plotting in python3 using Matplotlib library\n",
    "import math # math module for exp function; For e value\n",
    "# generate random integer values\n",
    "from numpy.random import seed\n",
    "from numpy.random import randint\n",
    "# seed random number generator\n",
    "seed(1)"
   ]
  },
  {
   "cell_type": "code",
   "execution_count": null,
   "id": "6cf68a52",
   "metadata": {},
   "outputs": [],
   "source": [
    "def main():\n",
    "    \n",
    "    # Input feature 1 patient age\n",
    "    # Input feature 2 tumor size\n",
    "    # Input feature 3 family history (y/n:0/1)\n",
    "    # Input feature 4 regular junk food intake\n",
    "    # Input feature 5 currently smoking\n",
    "    # Input feature 6 stressful lifestyle\n",
    "    # Input feature 7 working with chemicals\n",
    "    # Input feature 8 urban/rural (0/1)\n",
    "    # Input feature 9 sleep duration (1hr-10hrs)\n",
    "    # Input feature 10 regular exercise\n",
    "    \n",
    "    pat_age = randint(0,100,100)\n",
    "    tum_size = randint(1,10,100) # in cm\n",
    "    fm_histry = randint(0,2,100)\n",
    "    junk_food = randint(0,2,100)\n",
    "    smoking = randint(0,2,100)\n",
    "    stress_lif = randint(0,2,100)\n",
    "    work_withchem = randint(0,2,100)\n",
    "    rural_urbn = randint(0,2,100)\n",
    "    sleep_dur = randint(1,10,100)\n",
    "    reg_exerc = randint(0,2,100)\n",
    "    features = np.transpose([pat_age, tum_size, fm_histry, junk_food,smoking,stress_lif,work_withchem,rural_urbn,sleep_dur,reg_exerc]);\n",
    "    [rows, cols] = np.shape(features)\n",
    "    \n",
    "    # Output benign or malignant 0/1\n",
    "    diagnosis_res = randint(0,2,100)\n",
    "    \n",
    "    \n",
    "        \n",
    "    print(\"Enter number of layers:\")\n",
    "    num_oflayers = int(input())\n",
    "    layers = np.empty([num_oflayers,1],dtype=int)\n",
    "    b = randint(100,500,rows)\n",
    "    print(layers)\n",
    "    \n",
    "    \n",
    "    for eachrow in range(rows):\n",
    "        for eachlayer in range(len(layers)):\n",
    "            for eachnode in range(int(nodes[eachlayer])):\n",
    "                weights = randint(0,2,cols)/10\n",
    "                lin_reg = np.dot(weights,inputs_activations) + b[eachrow]\n",
    "                log_reg = 1/(1+np.exp(-lin_reg))\n",
    "                activation_vector = np.append(log_reg)\n",
    "  "
   ]
  }
 ],
 "metadata": {
  "kernelspec": {
   "display_name": "Python 3 (ipykernel)",
   "language": "python",
   "name": "python3"
  },
  "language_info": {
   "codemirror_mode": {
    "name": "ipython",
    "version": 3
   },
   "file_extension": ".py",
   "mimetype": "text/x-python",
   "name": "python",
   "nbconvert_exporter": "python",
   "pygments_lexer": "ipython3",
   "version": "3.10.6"
  }
 },
 "nbformat": 4,
 "nbformat_minor": 5
}
